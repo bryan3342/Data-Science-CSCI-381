{
  "nbformat": 4,
  "nbformat_minor": 0,
  "metadata": {
    "colab": {
      "provenance": []
    },
    "kernelspec": {
      "name": "python3",
      "display_name": "Python 3"
    },
    "language_info": {
      "name": "python"
    }
  },
  "cells": [
    {
      "cell_type": "code",
      "execution_count": 1,
      "metadata": {
        "colab": {
          "base_uri": "https://localhost:8080/"
        },
        "id": "miQgmfuHe8Ol",
        "outputId": "bad144d8-0f31-4f40-df34-adb5789fd6d8"
      },
      "outputs": [
        {
          "output_type": "stream",
          "name": "stdout",
          "text": [
            "Downloading from https://www.kaggle.com/api/v1/datasets/download/balaka18/email-spam-classification-dataset-csv?dataset_version_number=1...\n"
          ]
        },
        {
          "output_type": "stream",
          "name": "stderr",
          "text": [
            "100%|██████████| 1.66M/1.66M [00:00<00:00, 2.17MB/s]"
          ]
        },
        {
          "output_type": "stream",
          "name": "stdout",
          "text": [
            "Extracting files...\n",
            "Path to dataset files: /root/.cache/kagglehub/datasets/balaka18/email-spam-classification-dataset-csv/versions/1\n"
          ]
        },
        {
          "output_type": "stream",
          "name": "stderr",
          "text": [
            "\n"
          ]
        }
      ],
      "source": [
        "import kagglehub\n",
        "\n",
        "# Download latest version\n",
        "path = kagglehub.dataset_download(\"balaka18/email-spam-classification-dataset-csv\")\n",
        "\n",
        "print(\"Path to dataset files:\", path)"
      ]
    },
    {
      "cell_type": "code",
      "source": [
        "import pandas as pd\n",
        "\n",
        "# assuming `path` is a directory containing one or more CSVs\n",
        "import os\n",
        "files = os.listdir(path)\n",
        "print(files)  # find the CSV filename(s)\n",
        "\n",
        "# load the main dataset\n",
        "df = pd.read_csv(os.path.join(path, files[0]))\n",
        "df.head(), df.info(), df.shape\n"
      ],
      "metadata": {
        "colab": {
          "base_uri": "https://localhost:8080/"
        },
        "id": "ixnTjsgYf5wk",
        "outputId": "fa525dad-ac48-4739-948f-09de87ac8bbc"
      },
      "execution_count": 3,
      "outputs": [
        {
          "output_type": "stream",
          "name": "stdout",
          "text": [
            "['emails.csv']\n",
            "<class 'pandas.core.frame.DataFrame'>\n",
            "RangeIndex: 5172 entries, 0 to 5171\n",
            "Columns: 3002 entries, Email No. to Prediction\n",
            "dtypes: int64(3001), object(1)\n",
            "memory usage: 118.5+ MB\n"
          ]
        },
        {
          "output_type": "execute_result",
          "data": {
            "text/plain": [
              "(  Email No.  the  to  ect  and  for  of    a  you  hou  ...  connevey  jay  \\\n",
              " 0   Email 1    0   0    1    0    0   0    2    0    0  ...         0    0   \n",
              " 1   Email 2    8  13   24    6    6   2  102    1   27  ...         0    0   \n",
              " 2   Email 3    0   0    1    0    0   0    8    0    0  ...         0    0   \n",
              " 3   Email 4    0   5   22    0    5   1   51    2   10  ...         0    0   \n",
              " 4   Email 5    7   6   17    1    5   2   57    0    9  ...         0    0   \n",
              " \n",
              "    valued  lay  infrastructure  military  allowing  ff  dry  Prediction  \n",
              " 0       0    0               0         0         0   0    0           0  \n",
              " 1       0    0               0         0         0   1    0           0  \n",
              " 2       0    0               0         0         0   0    0           0  \n",
              " 3       0    0               0         0         0   0    0           0  \n",
              " 4       0    0               0         0         0   1    0           0  \n",
              " \n",
              " [5 rows x 3002 columns],\n",
              " None,\n",
              " (5172, 3002))"
            ]
          },
          "metadata": {},
          "execution_count": 3
        }
      ]
    },
    {
      "cell_type": "code",
      "source": [
        "# General info\n",
        "print(df.info())\n",
        "print(df.describe(include='all'))\n",
        "\n",
        "# Missing values\n",
        "print(df.isnull().sum())\n",
        "\n",
        "# Duplicate rows\n",
        "print(\"Duplicates:\", df.duplicated().sum())\n"
      ],
      "metadata": {
        "colab": {
          "base_uri": "https://localhost:8080/"
        },
        "id": "otKaAqjNgFWI",
        "outputId": "ad51d77f-08a7-476d-8e9e-15ea169b1adb"
      },
      "execution_count": 5,
      "outputs": [
        {
          "output_type": "stream",
          "name": "stdout",
          "text": [
            "<class 'pandas.core.frame.DataFrame'>\n",
            "RangeIndex: 5172 entries, 0 to 5171\n",
            "Columns: 3002 entries, Email No. to Prediction\n",
            "dtypes: int64(3001), object(1)\n",
            "memory usage: 118.5+ MB\n",
            "None\n",
            "         Email No.          the           to          ect          and  \\\n",
            "count         5172  5172.000000  5172.000000  5172.000000  5172.000000   \n",
            "unique        5172          NaN          NaN          NaN          NaN   \n",
            "top     Email 5172          NaN          NaN          NaN          NaN   \n",
            "freq             1          NaN          NaN          NaN          NaN   \n",
            "mean           NaN     6.640565     6.188128     5.143852     3.075599   \n",
            "std            NaN    11.745009     9.534576    14.101142     6.045970   \n",
            "min            NaN     0.000000     0.000000     1.000000     0.000000   \n",
            "25%            NaN     0.000000     1.000000     1.000000     0.000000   \n",
            "50%            NaN     3.000000     3.000000     1.000000     1.000000   \n",
            "75%            NaN     8.000000     7.000000     4.000000     3.000000   \n",
            "max            NaN   210.000000   132.000000   344.000000    89.000000   \n",
            "\n",
            "                for           of            a          you          hou  ...  \\\n",
            "count   5172.000000  5172.000000  5172.000000  5172.000000  5172.000000  ...   \n",
            "unique          NaN          NaN          NaN          NaN          NaN  ...   \n",
            "top             NaN          NaN          NaN          NaN          NaN  ...   \n",
            "freq            NaN          NaN          NaN          NaN          NaN  ...   \n",
            "mean       3.124710     2.627030    55.517401     2.466551     2.024362  ...   \n",
            "std        4.680522     6.229845    87.574172     4.314444     6.967878  ...   \n",
            "min        0.000000     0.000000     0.000000     0.000000     0.000000  ...   \n",
            "25%        1.000000     0.000000    12.000000     0.000000     0.000000  ...   \n",
            "50%        2.000000     1.000000    28.000000     1.000000     0.000000  ...   \n",
            "75%        4.000000     2.000000    62.250000     3.000000     1.000000  ...   \n",
            "max       47.000000    77.000000  1898.000000    70.000000   167.000000  ...   \n",
            "\n",
            "           connevey          jay       valued          lay  infrastructure  \\\n",
            "count   5172.000000  5172.000000  5172.000000  5172.000000     5172.000000   \n",
            "unique          NaN          NaN          NaN          NaN             NaN   \n",
            "top             NaN          NaN          NaN          NaN             NaN   \n",
            "freq            NaN          NaN          NaN          NaN             NaN   \n",
            "mean       0.005027     0.012568     0.010634     0.098028        0.004254   \n",
            "std        0.105788     0.199682     0.116693     0.569532        0.096252   \n",
            "min        0.000000     0.000000     0.000000     0.000000        0.000000   \n",
            "25%        0.000000     0.000000     0.000000     0.000000        0.000000   \n",
            "50%        0.000000     0.000000     0.000000     0.000000        0.000000   \n",
            "75%        0.000000     0.000000     0.000000     0.000000        0.000000   \n",
            "max        4.000000     7.000000     2.000000    12.000000        3.000000   \n",
            "\n",
            "           military     allowing           ff          dry   Prediction  \n",
            "count   5172.000000  5172.000000  5172.000000  5172.000000  5172.000000  \n",
            "unique          NaN          NaN          NaN          NaN          NaN  \n",
            "top             NaN          NaN          NaN          NaN          NaN  \n",
            "freq            NaN          NaN          NaN          NaN          NaN  \n",
            "mean       0.006574     0.004060     0.914733     0.006961     0.290023  \n",
            "std        0.138908     0.072145     2.780203     0.098086     0.453817  \n",
            "min        0.000000     0.000000     0.000000     0.000000     0.000000  \n",
            "25%        0.000000     0.000000     0.000000     0.000000     0.000000  \n",
            "50%        0.000000     0.000000     0.000000     0.000000     0.000000  \n",
            "75%        0.000000     0.000000     1.000000     0.000000     1.000000  \n",
            "max        4.000000     3.000000   114.000000     4.000000     1.000000  \n",
            "\n",
            "[11 rows x 3002 columns]\n",
            "Email No.     0\n",
            "the           0\n",
            "to            0\n",
            "ect           0\n",
            "and           0\n",
            "             ..\n",
            "military      0\n",
            "allowing      0\n",
            "ff            0\n",
            "dry           0\n",
            "Prediction    0\n",
            "Length: 3002, dtype: int64\n",
            "Duplicates: 0\n"
          ]
        }
      ]
    }
  ]
}